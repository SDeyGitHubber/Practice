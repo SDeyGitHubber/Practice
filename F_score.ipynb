{
 "cells": [
  {
   "cell_type": "markdown",
   "metadata": {},
   "source": [
    "#### Number 3\n",
    "Write a Python program that generates random samples from two normal distributions with knownvariances and uses an F-test to determine if the variances are equal. The program should output the F-value, degrees of freedom, and p-value for the test."
   ]
  },
  {
   "cell_type": "code",
   "execution_count": 7,
   "metadata": {},
   "outputs": [
    {
     "name": "stdout",
     "output_type": "stream",
     "text": [
      "F-value: 0.4388610862253245\n",
      "Degrees of Freedom (numerator, denominator): 99 , 99\n",
      "P-value: 2.7724829875459575e-05\n"
     ]
    }
   ],
   "source": [
    "import numpy as np\n",
    "from scipy.stats import f\n",
    "\n",
    "def generate_samples(mean1, var1, mean2, var2, sample_size):\n",
    "    samples1 = np.random.normal(mean1, np.sqrt(var1), sample_size)\n",
    "    samples2 = np.random.normal(mean2, np.sqrt(var2), sample_size)\n",
    "    return samples1, samples2\n",
    "\n",
    "def perform_f_test(samples1, samples2):\n",
    "    var1 = np.var(samples1, ddof=1)  # Sample variance of samples1\n",
    "    var2 = np.var(samples2, ddof=1)  # Sample variance of samples2\n",
    "    f_value = var1 / var2  # F-value\n",
    "    df1 = len(samples1) - 1  # Degrees of freedom numerator\n",
    "    df2 = len(samples2) - 1  # Degrees of freedom denominator\n",
    "    p_value = f.cdf(f_value, df1, df2)  # P-value\n",
    "    return f_value, df1, df2, p_value\n",
    "\n",
    "# Example usage\n",
    "mean1 = 0.0\n",
    "var1 = 1.0\n",
    "mean2 = 0.0\n",
    "var2 = 2.0\n",
    "sample_size = 100\n",
    "\n",
    "# Generate random samples\n",
    "samples1, samples2 = generate_samples(mean1, var1, mean2, var2, sample_size)\n",
    "\n",
    "# Perform F-test\n",
    "f_value, df1, df2, p_value = perform_f_test(samples1, samples2)\n",
    "\n",
    "# Output the results\n",
    "print(\"F-value:\", f_value)\n",
    "print(\"Degrees of Freedom (numerator, denominator):\", df1, \",\", df2)\n",
    "print(\"P-value:\", p_value)\n"
   ]
  },
  {
   "cell_type": "markdown",
   "metadata": {},
   "source": [
    "#### Number 4\n",
    "The variances of two populations are known to be 10 and 15. A sample of 12 observations is taken from\n",
    "each population. Conduct an F-test at the 5% significance level to determine if the variances are\n",
    "significantly different."
   ]
  },
  {
   "cell_type": "code",
   "execution_count": 6,
   "metadata": {},
   "outputs": [
    {
     "name": "stdout",
     "output_type": "stream",
     "text": [
      "The variances are not significantly different.\n"
     ]
    }
   ],
   "source": [
    "var1,var2=10,15\n",
    "degrees_of_freedom_numerator = 11\n",
    "degrees_of_freedom_denominator = 12\n",
    "alpha=0.05\n",
    "p_value=1-stats.f.cdf(10/15, degrees_of_freedom_numerator, degrees_of_freedom_denominator)\n",
    "if p_value < alpha:\n",
    "    print(\"The variances are significantly different.\")\n",
    "else:\n",
    "    print(\"The variances are not significantly different.\")"
   ]
  },
  {
   "cell_type": "markdown",
   "metadata": {},
   "source": [
    "#### Number 5\n",
    "A manufacturer claims that the variance of the diameter of a certain product is 0.005. A sample of 25\n",
    "products is taken, and the sample variance is found to be 0.006. Conduct an F-test at the 1% significance\n",
    "level to determine if the claim is justified."
   ]
  },
  {
   "cell_type": "code",
   "execution_count": 5,
   "metadata": {},
   "outputs": [
    {
     "name": "stdout",
     "output_type": "stream",
     "text": [
      "The claim is justified.\n"
     ]
    }
   ],
   "source": [
    "import scipy.stats as stats\n",
    "# Claimed variance\n",
    "claimed_variance = 0.005\n",
    "\n",
    "# Sample variance\n",
    "sample_variance = 0.006\n",
    "\n",
    "# Degrees of freedom\n",
    "degrees_of_freedom_numerator = 24  # degrees of freedom for the sample variance\n",
    "degrees_of_freedom_denominator = 25  # degrees of freedom for the claimed variance\n",
    "\n",
    "# Calculate the F-statistic\n",
    "f_statistic = sample_variance / claimed_variance\n",
    "\n",
    "# Calculate the p-value using the F-distribution\n",
    "p_value = 1 - stats.f.cdf(f_statistic, degrees_of_freedom_numerator, degrees_of_freedom_denominator)\n",
    "\n",
    "# Significance level\n",
    "alpha = 0.01\n",
    "# Check if the p-value is less than the significance level\n",
    "if p_value < alpha:\n",
    "    print(\"The claim is not justified.\")\n",
    "else:\n",
    "    print(\"The claim is justified.\")"
   ]
  },
  {
   "cell_type": "markdown",
   "metadata": {},
   "source": [
    "#### Number 6\n",
    "Write a Python function that takes in the degrees of freedom for the numerator and denominator of an\n",
    "F-distribution and calculates the mean and variance of the distribution. The function should return the\n",
    "mean and variance as a tuple."
   ]
  },
  {
   "cell_type": "code",
   "execution_count": 4,
   "metadata": {},
   "outputs": [
    {
     "name": "stdout",
     "output_type": "stream",
     "text": [
      "Mean: 1.25\n",
      "Variance: 1.3541666666666667\n"
     ]
    }
   ],
   "source": [
    "def calculate_f_distribution(degrees_of_freedom_numerator, degrees_of_freedom_denominator):\n",
    "    # Calculate the mean of the F-distribution\n",
    "    mean = degrees_of_freedom_denominator / (degrees_of_freedom_denominator - 2)\n",
    "\n",
    "    # Calculate the variance of the F-distribution\n",
    "    variance_numerator = (2 * (degrees_of_freedom_denominator ** 2) * (degrees_of_freedom_numerator + degrees_of_freedom_denominator - 2))\n",
    "    variance_denominator = (degrees_of_freedom_numerator * (degrees_of_freedom_denominator - 2) ** 2 * (degrees_of_freedom_denominator - 4))\n",
    "    variance = variance_numerator / variance_denominator\n",
    "\n",
    "    return mean, variance\n",
    "\n",
    "# Example usage\n",
    "degrees_of_freedom_numerator = 5\n",
    "degrees_of_freedom_denominator = 10\n",
    "\n",
    "mean, variance = calculate_f_distribution(degrees_of_freedom_numerator, degrees_of_freedom_denominator)\n",
    "\n",
    "print(\"Mean:\", mean)\n",
    "print(\"Variance:\", variance)"
   ]
  },
  {
   "cell_type": "markdown",
   "metadata": {},
   "source": [
    "#### Number 7\n",
    "A random sample of 10 measurements is taken from a normal population with unknown variance. The\n",
    "sample variance is found to be 25. Another random sample of 15 measurements is taken from another\n",
    "normal population with unknown variance, and the sample variance is found to be 20. Conduct an F-test\n",
    "at the 10% significance level to determine if the variances are significantly different."
   ]
  },
  {
   "cell_type": "code",
   "execution_count": 3,
   "metadata": {},
   "outputs": [
    {
     "name": "stdout",
     "output_type": "stream",
     "text": [
      "The variances are not significantly different.\n"
     ]
    }
   ],
   "source": [
    "import scipy.stats as stats\n",
    "\n",
    "# Sample variances\n",
    "sample_variance_1 = 25\n",
    "sample_variance_2 = 20\n",
    "\n",
    "# Sample sizes\n",
    "sample_size_1 = 10\n",
    "sample_size_2 = 15\n",
    "\n",
    "degrees_of_freedom_numerator = sample_size_1 - 1  # degrees of freedom for the first sample variance\n",
    "degrees_of_freedom_denominator = sample_size_2 - 1  # degrees of freedom for the second sample variance\n",
    "\n",
    "# Calculate the F-statistic\n",
    "f_statistic = sample_variance_1 / sample_variance_2\n",
    "\n",
    "p_value = 1 - stats.f.cdf(f_statistic, degrees_of_freedom_numerator, degrees_of_freedom_denominator)\n",
    "if p_value < alpha:\n",
    "    print(\"The variances are significantly different.\")\n",
    "else:\n",
    "    print(\"The variances are not significantly different.\")\n"
   ]
  },
  {
   "cell_type": "markdown",
   "metadata": {},
   "source": [
    "#### Number 8\n",
    "Restaurant A: 24, 25, 28, 23, 22, 20, 27; Restaurant B: 31, 33, 35, 30, 32, 36. Conduct an F-test at the 5%\n",
    "significance level to determine if the variances are significantly different."
   ]
  },
  {
   "cell_type": "code",
   "execution_count": 2,
   "metadata": {},
   "outputs": [
    {
     "name": "stdout",
     "output_type": "stream",
     "text": [
      "The variances are significantly different.\n"
     ]
    }
   ],
   "source": [
    "import numpy as np\n",
    "from scipy.stats import f_oneway\n",
    "group_a=np.array([24, 25, 28, 23, 22, 20, 27])\n",
    "group_b=np.array([31, 33, 35, 30, 32, 36])\n",
    "result=f_oneway(group_a,group_b)\n",
    "p=result.pvalue\n",
    "alpha=0.05\n",
    "if p_value < alpha:\n",
    "    print(\"The variances are significantly different.\")\n",
    "else:\n",
    "    print(\"The variances are not significantly different.\")"
   ]
  },
  {
   "cell_type": "markdown",
   "metadata": {},
   "source": [
    "#### Number 9\n",
    "Group A: 80, 85, 90, 92, 87, 83;\n",
    "Group B: 75, 78, 82, 79, 81, 84. Conduct an F-test at the 1% significance level to determine if the variances\n",
    "are significantly different."
   ]
  },
  {
   "cell_type": "code",
   "execution_count": 1,
   "metadata": {},
   "outputs": [
    {
     "name": "stdout",
     "output_type": "stream",
     "text": [
      "The variances are not significantly different.\n"
     ]
    }
   ],
   "source": [
    "import scipy.stats as stats\n",
    "\n",
    "group_a = [80, 85, 90, 92, 87, 83]\n",
    "group_b = [75, 78, 82, 79, 81, 84]\n",
    "result = stats.f_oneway(group_a, group_b)\n",
    "\n",
    "p_value = result.pvalue\n",
    "alpha = 0.01\n",
    "\n",
    "if p_value < alpha:\n",
    "    print(\"The variances are significantly different.\")\n",
    "else:\n",
    "    print(\"The variances are not significantly different.\")"
   ]
  },
  {
   "cell_type": "code",
   "execution_count": null,
   "metadata": {},
   "outputs": [],
   "source": []
  }
 ],
 "metadata": {
  "kernelspec": {
   "display_name": "Python 3 (ipykernel)",
   "language": "python",
   "name": "python3"
  },
  "language_info": {
   "codemirror_mode": {
    "name": "ipython",
    "version": 3
   },
   "file_extension": ".py",
   "mimetype": "text/x-python",
   "name": "python",
   "nbconvert_exporter": "python",
   "pygments_lexer": "ipython3",
   "version": "3.11.1"
  }
 },
 "nbformat": 4,
 "nbformat_minor": 2
}
