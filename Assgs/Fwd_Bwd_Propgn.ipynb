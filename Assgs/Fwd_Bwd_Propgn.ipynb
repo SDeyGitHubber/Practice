{
 "cells": [
  {
   "cell_type": "markdown",
   "metadata": {},
   "source": [
    "#### Q1. \n",
    "What is the purpose of forward propagation in a neural network?\n",
    "#### Ans\n",
    "The purpose of forward propagation in a neural network is to compute the predicted output for a given input. It involves passing the input data through the network's layers, applying transformations and activations, and producing an output that can be compared to the desired output during training."
   ]
  },
  {
   "cell_type": "markdown",
   "metadata": {},
   "source": [
    "#### Q2.\n",
    "How is forward propagation implemented mathematically in a single-layer feedforward neural network?\n",
    "#### Ans\n",
    "In a single-layer feedforward neural network, also known as a perceptron, forward propagation is implemented as follows:\n",
    "\n",
    "* Multiply the input values by the corresponding weights.\n",
    "* Sum up the weighted inputs.\n",
    "* Apply an activation function to the sum to introduce non-linearity.\n",
    "* The resulting output is the output of the network."
   ]
  },
  {
   "cell_type": "markdown",
   "metadata": {},
   "source": [
    "#### Q3. \n",
    "How are activation functions used during forward propagation?\n",
    "#### Ans\n",
    "Activation functions are used during forward propagation to introduce non-linearity to the output of a neuron. They allow neural networks to model complex relationships between inputs and outputs. Activation functions can be applied to the sum of weighted inputs in each neuron, transforming it into the output of the neuron."
   ]
  },
  {
   "cell_type": "markdown",
   "metadata": {},
   "source": [
    "#### Q4. \n",
    "What is the role of weights and biases in forward propagation?\n",
    "#### Ans\n",
    "Weights and biases in forward propagation play a crucial role in determining the output of each neuron. The weights represent the strength of the connections between neurons, controlling the contribution of inputs to the output. Biases provide an additional constant input to each neuron, enabling them to have an influence even when the inputs are zero. By adjusting the weights and biases, the network can learn to produce the desired outputs."
   ]
  },
  {
   "cell_type": "markdown",
   "metadata": {},
   "source": [
    "#### Q5. \n",
    "What is the purpose of applying a softmax function in the output layer during forward propagation?\n",
    "#### Ans\n",
    "The softmax function is commonly used in the output layer during forward propagation when dealing with multi-class classification problems. It transforms the output of the last layer into a probability distribution over multiple classes. The softmax function ensures that the sum of the probabilities for all classes is equal to 1, allowing the network to provide a normalized prediction for each class."
   ]
  },
  {
   "cell_type": "markdown",
   "metadata": {},
   "source": [
    "#### Q6. \n",
    "What is the purpose of backward propagation in a neural network?\n",
    "#### Ans\n",
    "The purpose of backward propagation, also known as backpropagation, is to update the weights and biases of a neural network based on the difference between the predicted output and the actual output. It calculates the gradients of the network's parameters with respect to a loss function, allowing for the optimization of the network through gradient descent."
   ]
  },
  {
   "cell_type": "markdown",
   "metadata": {},
   "source": [
    "#### Q7.\n",
    "How is backward propagation mathematically calculated in a single-layer feedforward neural network?\n",
    "#### Ans\n",
    "In a single-layer feedforward neural network, backward propagation is calculated as follows:\n",
    "\n",
    "* Compute the derivative of the loss function with respect to the network's output.\n",
    "* Multiply the output derivative by the derivative of the activation function applied during forward propagation.\n",
    "* This product represents the gradient of the loss with respect to the weighted sum of inputs.\n",
    "* Multiply the gradient by the input values to obtain the gradients of the weights.\n",
    "* The bias gradient is simply the gradient calculated in the previous step."
   ]
  },
  {
   "cell_type": "markdown",
   "metadata": {},
   "source": [
    "#### Q8. \n",
    "Can you explain the concept of the chain rule and its application in backward propagation?\n",
    "#### Ans\n",
    "The chain rule is a fundamental rule of calculus used in backward propagation. It allows the calculation of the derivative of a composite function by breaking it down into simpler functions and multiplying their derivatives. In the context of neural networks, the chain rule enables the calculation of the gradients at each layer by propagating the gradients from the subsequent layers backward, updating the weights and biases accordingly."
   ]
  },
  {
   "cell_type": "markdown",
   "metadata": {},
   "source": [
    "#### Q9. \n",
    "What are some common challenges or issues that can occur during backward propagation, and how\n",
    "can they be addressed?  \n",
    "#### Ans\n",
    "Some common challenges or issues in backward propagation include:\n",
    "\n",
    "* Vanishing gradients: When the gradients become very small, preventing effective learning in deeper layers. Addressed using activation functions that mitigate this issue, such as ReLU.\n",
    "* Exploding gradients: When the gradients become too large, leading to unstable training. Addressed using techniques like gradient clipping or weight regularization.\n",
    "* Overfitting: When the network becomes too specialized to the training data, leading to poor generalization. Addressed using regularization techniques like dropout or early stopping."
   ]
  }
 ],
 "metadata": {
  "kernelspec": {
   "display_name": "Python 3 (ipykernel)",
   "language": "python",
   "name": "python3"
  },
  "language_info": {
   "codemirror_mode": {
    "name": "ipython",
    "version": 3
   },
   "file_extension": ".py",
   "mimetype": "text/x-python",
   "name": "python",
   "nbconvert_exporter": "python",
   "pygments_lexer": "ipython3",
   "version": "3.11.1"
  }
 },
 "nbformat": 4,
 "nbformat_minor": 2
}
