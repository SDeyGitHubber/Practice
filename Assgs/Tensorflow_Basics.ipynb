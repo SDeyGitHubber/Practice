{
  "nbformat": 4,
  "nbformat_minor": 0,
  "metadata": {
    "colab": {
      "provenance": []
    },
    "kernelspec": {
      "name": "python3",
      "display_name": "Python 3"
    },
    "language_info": {
      "name": "python"
    }
  },
  "cells": [
    {
      "cell_type": "markdown",
      "source": [
        "### Q1.What are the different data structures used in Tensorflow?. Give some examples\n",
        "#### Ans\n",
        "The different data structures used in TensorFlow include tensors, variables, and constants. Tensors are multi-dimensional arrays that store and manipulate data. Variables are mutable tensors that persist across executions and are commonly used for model parameters. Constants are immutable tensors that hold fixed values.\n"
      ],
      "metadata": {
        "id": "N9PcZjcuh_kC"
      }
    },
    {
      "cell_type": "markdown",
      "source": [
        "#### Q2. How does the TensorFlow constant differ from a TensorFlow variable? Explain with an examplec\n",
        "#### Ans\n",
        "TensorFlow constants are used for storing fixed values that remain unchanged during computation. Once created, their values cannot be modified. For example, tf.constant(5) creates a constant tensor with a value of 5.\n",
        "\n",
        "On the other hand, TensorFlow variables are mutable tensors that can be updated and modified during computation, making them suitable for storing and updating model parameters during training. For example, tf.Variable(0.0) creates a variable tensor with an initial value of 0.0 that can be updated using assignment operations."
      ],
      "metadata": {
        "id": "k-1slVh4iQLm"
      }
    },
    {
      "cell_type": "markdown",
      "source": [
        "#### Q3.Describe the process of matrix addition, multiplication, and elementDwise operations in TensorFlow. answer in brief really brief\n",
        "#### Ans\n",
        "Matrix addition, multiplication, and element-wise operations in TensorFlow are performed as follows:\n",
        "* Matrix addition: It involves adding two matrices of the same shape element-wise. For example, tf.add(matrix1, matrix2) performs element-wise addition of matrix1 and matrix2.\n",
        "\n",
        "* Matrix multiplication: It can be performed using the tf.matmul() function, which computes the matrix product of two tensors. For example, tf.matmul(matrix1, matrix2) calculates the matrix multiplication of matrix1 and matrix2.\n",
        "\n",
        "* Element-wise operations: TensorFlow provides various element-wise operations such as element-wise addition (tf.add()), subtraction (tf.subtract()), multiplication (tf.multiply()), division (tf.divide()), exponentiation (tf.pow()), and more. These operations apply the operation element-wise to the corresponding elements of the input tensors.\n"
      ],
      "metadata": {
        "id": "ST3RsMQGiQX2"
      }
    },
    {
      "cell_type": "markdown",
      "source": [
        "#### Creating and Manipulating Matrices\n",
        "1. Create a normal matrix A with dimensions 2x2, using TensorFlow's random_normal function. Display the values of matrix A.\n",
        "2. Create a Gaussian matrix B with dimensions x, using TensorFlow's truncated_normal function. Display the values of matrix B\n",
        "3. Create a matrix C with dimensions 2x2, where the values are drawn from a normal distribution with a\n",
        "mean of 2 and a standard deviation of 0.5, using TensorFlow's random.normal function. Display the values\n",
        "of matrix.\n",
        "4. Perform matrix addition between matrix A and matrix B, and store the result in matrix D.\n",
        "5. Perform matrix multiplication between matrix C and matrix D, and store the result in matrix E."
      ],
      "metadata": {
        "id": "aAu3tYp7iQcU"
      }
    },
    {
      "cell_type": "code",
      "source": [
        "import tensorflow as tf\n",
        "A=tf.random.normal(shape=(2,2))\n",
        "print(f'Matrix A is {A.numpy()}')"
      ],
      "metadata": {
        "colab": {
          "base_uri": "https://localhost:8080/"
        },
        "id": "4Sw3Xo6MzKFQ",
        "outputId": "72808aae-f688-4674-b160-bdc4f3818de4"
      },
      "execution_count": 7,
      "outputs": [
        {
          "output_type": "stream",
          "name": "stdout",
          "text": [
            "Matrix A is [[ 0.256417   -1.5889072 ]\n",
            " [-0.03304625 -1.907607  ]]\n"
          ]
        }
      ]
    },
    {
      "cell_type": "code",
      "source": [
        "B=tf.random.truncated_normal(shape=(2,2))\n",
        "print('Matrix B is ')\n",
        "print(B.numpy())"
      ],
      "metadata": {
        "colab": {
          "base_uri": "https://localhost:8080/"
        },
        "id": "AplE1BjWzfqw",
        "outputId": "ae8d3daa-2a21-4df7-e38c-0ea78327d18b"
      },
      "execution_count": 8,
      "outputs": [
        {
          "output_type": "stream",
          "name": "stdout",
          "text": [
            "Matrix B is \n",
            "[[-1.8049802  -0.36366284]\n",
            " [-1.0687172  -0.3276713 ]]\n"
          ]
        }
      ]
    },
    {
      "cell_type": "code",
      "source": [
        "C=tf.random.normal(shape=(2,2),mean=2,stddev=0.5)\n",
        "print('Matrix C is ')\n",
        "print(C.numpy())"
      ],
      "metadata": {
        "colab": {
          "base_uri": "https://localhost:8080/"
        },
        "id": "U16jlPA20A81",
        "outputId": "f84f6887-c2e6-4ead-81ea-7fe728ae0b7b"
      },
      "execution_count": 9,
      "outputs": [
        {
          "output_type": "stream",
          "name": "stdout",
          "text": [
            "Matrix C is \n",
            "[[2.447211  1.7218874]\n",
            " [1.2911298 1.8322212]]\n"
          ]
        }
      ]
    },
    {
      "cell_type": "code",
      "source": [
        "D=tf.add(A,B)\n",
        "D"
      ],
      "metadata": {
        "colab": {
          "base_uri": "https://localhost:8080/"
        },
        "id": "A6w3xN1b0A_u",
        "outputId": "38e2a121-c9c2-49b9-bcc4-73c4425f987f"
      },
      "execution_count": 10,
      "outputs": [
        {
          "output_type": "execute_result",
          "data": {
            "text/plain": [
              "<tf.Tensor: shape=(2, 2), dtype=float32, numpy=\n",
              "array([[-1.5485631, -1.9525701],\n",
              "       [-1.1017635, -2.2352781]], dtype=float32)>"
            ]
          },
          "metadata": {},
          "execution_count": 10
        }
      ]
    },
    {
      "cell_type": "code",
      "source": [
        "E = tf.matmul(C, D)\n",
        "E"
      ],
      "metadata": {
        "colab": {
          "base_uri": "https://localhost:8080/"
        },
        "id": "yO3HERpj4z4o",
        "outputId": "1ce4fb40-9724-4a1f-e070-39964ece1b67"
      },
      "execution_count": 11,
      "outputs": [
        {
          "output_type": "execute_result",
          "data": {
            "text/plain": [
              "<tf.Tensor: shape=(2, 2), dtype=float32, numpy=\n",
              "array([[-5.6867733, -8.627248 ],\n",
              "       [-4.01807  , -6.616545 ]], dtype=float32)>"
            ]
          },
          "metadata": {},
          "execution_count": 11
        }
      ]
    },
    {
      "cell_type": "markdown",
      "source": [
        "####  Performing Additional Matrix Operations\n",
        "1. Create a matrix F with dimensions 2x2, initialized with random values using TensorFlow's random_uniform function.  \n",
        "2. Calculate the transpose of matrix F and store the result in matrix G\n",
        "3. Calculate the element D,wise exponential of matrix F and store the result in matrix.\n",
        "4. Create a matrix I by concatenating matrix F and matrix G horizontally.\n",
        "5. Create a matrix J by concatenating matrix F and matrix H vertically."
      ],
      "metadata": {
        "id": "9Y5E9vYJ8XL4"
      }
    },
    {
      "cell_type": "code",
      "source": [
        "F=tf.random.uniform(shape=(2,2))\n",
        "print(F.numpy(),'\\n')\n",
        "G=tf.transpose(F)\n",
        "print(G.numpy(),'\\n')\n",
        "H=tf.exp(F)\n",
        "print(H.numpy(),'\\n')\n",
        "I=tf.concat([F,H],axis=1) # storing the values norizontally\n",
        "print(I.numpy(),'\\n')\n",
        "J=tf.concat([F,H],axis=0) # storing the values vertically\n",
        "print(J.numpy(),'\\n')"
      ],
      "metadata": {
        "colab": {
          "base_uri": "https://localhost:8080/"
        },
        "id": "BnXNQjH05Um-",
        "outputId": "e71f15d8-5094-4f3b-86c9-bfd048f43011"
      },
      "execution_count": 13,
      "outputs": [
        {
          "output_type": "stream",
          "name": "stdout",
          "text": [
            "[[0.3373288  0.9951633 ]\n",
            " [0.7038157  0.02614999]] \n",
            "\n",
            "[[0.3373288  0.7038157 ]\n",
            " [0.9951633  0.02614999]] \n",
            "\n",
            "[[1.4011997 2.705166 ]\n",
            " [2.0214512 1.0264949]] \n",
            "\n",
            "[[0.3373288  0.9951633  1.4011997  2.705166  ]\n",
            " [0.7038157  0.02614999 2.0214512  1.0264949 ]] \n",
            "\n",
            "[[0.3373288  0.9951633 ]\n",
            " [0.7038157  0.02614999]\n",
            " [1.4011997  2.705166  ]\n",
            " [2.0214512  1.0264949 ]] \n",
            "\n"
          ]
        }
      ]
    }
  ]
}