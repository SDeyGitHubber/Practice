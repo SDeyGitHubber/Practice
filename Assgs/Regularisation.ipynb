{
  "nbformat": 4,
  "nbformat_minor": 0,
  "metadata": {
    "colab": {
      "provenance": []
    },
    "kernelspec": {
      "name": "python3",
      "display_name": "Python 3"
    },
    "language_info": {
      "name": "python"
    }
  },
  "cells": [
    {
      "cell_type": "markdown",
      "source": [
        "#### Question 1\n",
        "What is regularization in the context of deep learning. Why is it important?\n",
        "#### Ans\n",
        "Regularization in deep learning refers to techniques that are used to prevent overfitting, when the model is complex and memorizes the noise also. Regularization helps to generalize the model's performance on unseen data by adding a penalty term to the loss function.\n",
        "\n",
        "Regularization is important for the following reasons:\n",
        "\n",
        "* Preventing overfitting: Regularization techniques like L1 and L2 regularization, dropout help prevent overfitting by constraining the model's parameters.\n",
        "\n",
        "* Improving generalization: By reducing overfitting, regularization allows the model to generalize better to unseen data. It helps the model focus on important features and patterns in the data rather than noise or irrelevant details.\n",
        "\n",
        "* Handling limited training data: In scenarios where the available training data is limited, regularization becomes even more crucial. It helps prevent the model from memorizing the limited examples.\n",
        "\n",
        "* Reducing model complexity: Regularization techniques discourage the model from becoming overly complex, which can lead to poor generalization."
      ],
      "metadata": {
        "id": "ndy6Y6Nucvdr"
      }
    },
    {
      "cell_type": "markdown",
      "source": [
        "#### Question 2\n",
        "Explain the bias-variance tradeoff and how regularization helps in addressing this tradeoff\n",
        "#### Ans\n",
        "The bias-variance tradeoff is a fundamental concept in deep learning that describes the relationship between the model's bias and its variance.Bias: Bias measures how far off the predictions of a model are from the true values in the training data. Variance refers to the sensitivity of a model to fluctuations in the training data. A high variance suggests that the model is too sensitive to noise or random variations in the training data, resulting in overfitting.  \n",
        "Regularization helps address the bias-variance tradeoff by controlling the complexity of the model and reducing overfitting. Regularization techniques introduce a penalty term to the loss function,therby reducing complexity in the model and enabling the model to generalise and make better predictions.This helps strike a balance between bias and variance, leading to improved generalization performance."
      ],
      "metadata": {
        "id": "KvVr-6szcvgp"
      }
    },
    {
      "cell_type": "markdown",
      "source": [
        "#### Question 3\n",
        "Describe the concept of L1 and L2 regularization. How do they differ in terms of penalty calculation and their effects on the models\n",
        "#### Ans\n",
        "L1 Regularization (Lasso):\n",
        "\n",
        "Penalty Calculation:  \n",
        "L1 regularization adds the absolute value of the coefficients (weights) of the model as the penalty term to the loss function.  \n",
        "Effect on Models:\n",
        "L1 regularization encourages sparsity in the model by driving some coefficients to exactly zero. It effectively selects a subset of the most important features, leading to a more interpretable model and reducing overfitting.\n",
        "\n",
        "L2 Regularization (Ridge):\n",
        "   \n",
        "Penalty Calculation:  \n",
        "L2 regularization adds the squared value of the coefficients (weights) of the model as the penalty term to the loss function.  \n",
        "Effect on Models:  \n",
        "L2 regularization does not promote sparsity as strongly as L1 regularization. It encourages the model to have small weights across all features rather than driving specific weights to zero. L2 regularization can help control the magnitude of weights and prevent overfitting."
      ],
      "metadata": {
        "id": "5RU1lK7ncvjR"
      }
    },
    {
      "cell_type": "markdown",
      "source": [
        "#### Question 4\n",
        "Discuss the role of regularization in preventing overfitting and improving the generalization of deep learning models.\n",
        "#### Ans\n",
        "Regularization methods help in reducing overfitting by:  \n",
        "\n",
        "* Reducing model complexity: Regularization techniques, such as L1 and L2 regularization, penalize large parameter values or introduce constraints, encouraging the model to be simpler.\n",
        "* Generalizing the model: It mitigates the effect of noise or outliers in the training data. Hence, prevents the model from memorizing the training data resulting in overfitting"
      ],
      "metadata": {
        "id": "wlc72La0cvmY"
      }
    },
    {
      "cell_type": "markdown",
      "source": [
        "#### Question 5\n",
        "Explain Dropout regularization and how it works to reduce overfitting. Discuss the impact of Dropout on model training and inference.\n",
        "#### Ans\n",
        "Dropout regularization is a technique used to reduce overfitting in deep learning models. It works by randomly setting a fraction of the model's units (neurons) to zero during training, effectively \"dropping out\" those units from the network temporarily. This prevents the units from co-adapting.  \n",
        "* Impact on Training:  \n",
        "During training, Dropout is applied to the units with a specified dropout rate. The dropped out units are randomly selected for each mini-batch. This introduces noise and prevents the model from relying too heavily on specific units, features, or interactions.\n",
        "*  Impact on Inference:\n",
        "During inference or prediction, Dropout is turned off, and all units are used. However, the learned weights of the units are scaled by the dropout rate to ensure that the expected output remains the same as during training. This scaling is necessary because during training, the activations of dropped out units are multiplied by the inverse of the dropout rate to maintain the overall expected activation."
      ],
      "metadata": {
        "id": "Y2hB6PzLcwCt"
      }
    },
    {
      "cell_type": "markdown",
      "source": [
        "#### Question 6\n",
        "Describe the concept of Early stopping as a form of regularization. How does it help prevent overfitting during the training process\n",
        "#### Ans\n",
        "Early stopping is a form of regularization that helps prevent overfitting during the training process of a machine learning model. It involves monitoring the model's performance on a validation set during training and stopping the training process when the performance on the validation set starts to degrade.\n",
        "\n",
        "The concept behind early stopping is that as training progresses, the model learns to fit the training data more closely, potentially leading to overfitting. By monitoring the validation set, we can identify when the model's performance on unseen data starts to deteriorate, indicating that it is overfitting.\n"
      ],
      "metadata": {
        "id": "3bTNz-M5cwGA"
      }
    },
    {
      "cell_type": "markdown",
      "source": [
        "#### Question 7\n",
        "Explain the concept of Batch Normalization and its role as a form of regularization. How does Batch Normalization help in preventing overfitting\n",
        "#### Ans\n",
        "Batch Normalization is a technique used in deep learning to normalize the activations of each layer in a neural network. It helps in addressing the internal covariate shift problem and also acts as a form of regularization.\n",
        "\n",
        "The main idea behind Batch Normalization is to normalize the inputs to each layer by subtracting the batch mean and dividing by the batch standard deviation. This ensures that the activations have zero mean and unit variance, which stabilizes the learning process and speeds up convergence.  "
      ],
      "metadata": {
        "id": "UgSpCSFhcwJF"
      }
    },
    {
      "cell_type": "markdown",
      "source": [
        "Q8 IMPLEMENTING DROPOUT"
      ],
      "metadata": {
        "id": "fzDSNn-O4mTP"
      }
    },
    {
      "cell_type": "code",
      "source": [
        "import pandas as pd\n",
        "import tensorflow as tf\n",
        "import matplotlib.pyplot as plt\n",
        "import seaborn as sns\n",
        "print(f'tensorflow version {tf.__version__}')\n",
        "print(f'tensorflow version {tf.keras.__version__}')"
      ],
      "metadata": {
        "colab": {
          "base_uri": "https://localhost:8080/"
        },
        "id": "OWTxyh9Rwy1N",
        "outputId": "a00e9199-7493-4cad-ba00-3e95276586d3"
      },
      "execution_count": 1,
      "outputs": [
        {
          "output_type": "stream",
          "name": "stdout",
          "text": [
            "tensorflow version 2.12.0\n",
            "tensorflow version 2.12.0\n"
          ]
        }
      ]
    },
    {
      "cell_type": "code",
      "source": [
        "(X_train_full,y_train_full),(X_test_full,y_test_full)=tf.keras.datasets.cifar10.load_data()\n",
        "X_train_full.shape,y_train_full.shape,X_test_full.shape,y_test_full.shape"
      ],
      "metadata": {
        "colab": {
          "base_uri": "https://localhost:8080/"
        },
        "id": "B5tsGhAnwy7c",
        "outputId": "99de1af1-b497-4779-a79d-f74455ac1c4b"
      },
      "execution_count": 2,
      "outputs": [
        {
          "output_type": "stream",
          "name": "stdout",
          "text": [
            "Downloading data from https://www.cs.toronto.edu/~kriz/cifar-10-python.tar.gz\n",
            "170498071/170498071 [==============================] - 11s 0us/step\n"
          ]
        },
        {
          "output_type": "execute_result",
          "data": {
            "text/plain": [
              "((50000, 32, 32, 3), (50000, 1), (10000, 32, 32, 3), (10000, 1))"
            ]
          },
          "metadata": {},
          "execution_count": 2
        }
      ]
    },
    {
      "cell_type": "code",
      "source": [
        "X_valid,X_train=X_train_full[:5000]/255.,X_train_full[5000:]/255.\n",
        "y_valid,y_train=y_train_full[:5000],y_train_full[5000:]\n",
        "X_test_full=X_test_full/255."
      ],
      "metadata": {
        "id": "A33AOawwwzCB"
      },
      "execution_count": 3,
      "outputs": []
    },
    {
      "cell_type": "code",
      "source": [
        "model = tf.keras.models.Sequential([\n",
        "    tf.keras.layers.Flatten(input_shape=[32,32,3]),\n",
        "    tf.keras.layers.Dense(300, activation='relu'),\n",
        "    tf.keras.layers.Dropout(0.5),  # Dropout layer with dropout rate of 0.5\n",
        "    tf.keras.layers.Dense(300, activation='relu'),\n",
        "    tf.keras.layers.Dropout(0.5),\n",
        "    tf.keras.layers.Dense(10, activation='softmax')\n",
        "])\n",
        "\n",
        "# Compile the model\n",
        "model.compile(optimizer='adam',\n",
        "              loss='sparse_categorical_crossentropy',\n",
        "              metrics=['accuracy'])"
      ],
      "metadata": {
        "id": "BtEUiwL-wzJR"
      },
      "execution_count": 11,
      "outputs": []
    },
    {
      "cell_type": "code",
      "source": [
        "history1=model.fit(X_train, y_train, epochs=10, batch_size=32, validation_data=(X_valid, y_valid))"
      ],
      "metadata": {
        "colab": {
          "base_uri": "https://localhost:8080/"
        },
        "id": "onnf_1v7ujIs",
        "outputId": "876c4310-e055-4ddf-9301-657b295ab4e3"
      },
      "execution_count": 12,
      "outputs": [
        {
          "output_type": "stream",
          "name": "stdout",
          "text": [
            "Epoch 1/10\n",
            "1407/1407 [==============================] - 26s 18ms/step - loss: 2.2524 - accuracy: 0.1312 - val_loss: 2.1474 - val_accuracy: 0.1734\n",
            "Epoch 2/10\n",
            "1407/1407 [==============================] - 28s 20ms/step - loss: 2.2284 - accuracy: 0.1378 - val_loss: 2.1673 - val_accuracy: 0.1762\n",
            "Epoch 3/10\n",
            "1407/1407 [==============================] - 25s 18ms/step - loss: 2.2295 - accuracy: 0.1373 - val_loss: 2.1490 - val_accuracy: 0.1678\n",
            "Epoch 4/10\n",
            "1407/1407 [==============================] - 24s 17ms/step - loss: 2.2230 - accuracy: 0.1367 - val_loss: 2.1312 - val_accuracy: 0.1720\n",
            "Epoch 5/10\n",
            "1407/1407 [==============================] - 24s 17ms/step - loss: 2.2222 - accuracy: 0.1382 - val_loss: 2.1435 - val_accuracy: 0.1922\n",
            "Epoch 6/10\n",
            "1407/1407 [==============================] - 24s 17ms/step - loss: 2.2229 - accuracy: 0.1398 - val_loss: 2.1354 - val_accuracy: 0.1904\n",
            "Epoch 7/10\n",
            "1407/1407 [==============================] - 24s 17ms/step - loss: 2.2204 - accuracy: 0.1401 - val_loss: 2.1639 - val_accuracy: 0.1626\n",
            "Epoch 8/10\n",
            "1407/1407 [==============================] - 24s 17ms/step - loss: 2.2199 - accuracy: 0.1368 - val_loss: 2.1822 - val_accuracy: 0.1560\n",
            "Epoch 9/10\n",
            "1407/1407 [==============================] - 24s 17ms/step - loss: 2.2205 - accuracy: 0.1407 - val_loss: 2.1694 - val_accuracy: 0.1744\n",
            "Epoch 10/10\n",
            "1407/1407 [==============================] - 24s 17ms/step - loss: 2.2193 - accuracy: 0.1418 - val_loss: 2.1575 - val_accuracy: 0.1942\n"
          ]
        }
      ]
    },
    {
      "cell_type": "code",
      "source": [
        "pd.DataFrame(history1.history).plot()\n",
        "loss,accuracy=model.evaluate(X_test_full,y_test_full)\n",
        "print(f'The loss evaluated is {loss}')\n",
        "print(f'The accuracy of the model is evaluated as {accuracy}')"
      ],
      "metadata": {
        "colab": {
          "base_uri": "https://localhost:8080/",
          "height": 484
        },
        "id": "lrl8Q_4iz2TK",
        "outputId": "b2bc13ac-e4b5-47f2-cac1-6b9f36e3a91e"
      },
      "execution_count": 14,
      "outputs": [
        {
          "output_type": "stream",
          "name": "stdout",
          "text": [
            "313/313 [==============================] - 1s 4ms/step - loss: 2.1561 - accuracy: 0.1862\n",
            "The loss evaluated is 2.156132698059082\n",
            "The accuracy of the model is evaluated as 0.18619999289512634\n"
          ]
        },
        {
          "output_type": "display_data",
          "data": {
            "text/plain": [
              "<Figure size 640x480 with 1 Axes>"
            ],
            "image/png": "[encoded data removed]"
          },
          "metadata": {}
        }
      ]
    },
    {
      "cell_type": "code",
      "source": [
        "# Evaluate the model without Dropout regularization\n",
        "model_no_dropout = tf.keras.models.clone_model(model)\n",
        "model_no_dropout.set_weights(model.get_weights())\n",
        "\n",
        "model_no_dropout.compile(optimizer='adam',\n",
        "                         loss='sparse_categorical_crossentropy',\n",
        "                         metrics=['accuracy'])\n",
        "\n",
        "history2=model_no_dropout.fit(X_train, y_train, epochs=10, batch_size=32, validation_data=(X_valid, y_valid))"
      ],
      "metadata": {
        "colab": {
          "base_uri": "https://localhost:8080/"
        },
        "id": "Fh3zki5jyVU6",
        "outputId": "38fc3107-8262-456b-95cf-998acd88ca62"
      },
      "execution_count": 13,
      "outputs": [
        {
          "output_type": "stream",
          "name": "stdout",
          "text": [
            "Epoch 1/10\n",
            "1407/1407 [==============================] - 26s 18ms/step - loss: 2.2185 - accuracy: 0.1400 - val_loss: 2.1353 - val_accuracy: 0.1964\n",
            "Epoch 2/10\n",
            "1407/1407 [==============================] - 24s 17ms/step - loss: 2.2155 - accuracy: 0.1399 - val_loss: 2.1466 - val_accuracy: 0.1654\n",
            "Epoch 3/10\n",
            "1407/1407 [==============================] - 24s 17ms/step - loss: 2.2191 - accuracy: 0.1380 - val_loss: 2.1806 - val_accuracy: 0.1736\n",
            "Epoch 4/10\n",
            "1407/1407 [==============================] - 24s 17ms/step - loss: 2.2151 - accuracy: 0.1424 - val_loss: 2.1730 - val_accuracy: 0.1676\n",
            "Epoch 5/10\n",
            "1407/1407 [==============================] - 24s 17ms/step - loss: 2.2169 - accuracy: 0.1397 - val_loss: 2.1168 - val_accuracy: 0.1960\n",
            "Epoch 6/10\n",
            "1407/1407 [==============================] - 24s 17ms/step - loss: 2.2173 - accuracy: 0.1390 - val_loss: 2.1822 - val_accuracy: 0.1646\n",
            "Epoch 7/10\n",
            "1407/1407 [==============================] - 25s 18ms/step - loss: 2.2184 - accuracy: 0.1391 - val_loss: 2.1358 - val_accuracy: 0.1986\n",
            "Epoch 8/10\n",
            "1407/1407 [==============================] - 29s 20ms/step - loss: 2.2170 - accuracy: 0.1393 - val_loss: 2.1757 - val_accuracy: 0.1728\n",
            "Epoch 9/10\n",
            "1407/1407 [==============================] - 25s 18ms/step - loss: 2.2192 - accuracy: 0.1385 - val_loss: 2.1529 - val_accuracy: 0.1890\n",
            "Epoch 10/10\n",
            "1407/1407 [==============================] - 26s 18ms/step - loss: 2.2170 - accuracy: 0.1404 - val_loss: 2.1690 - val_accuracy: 0.1734\n"
          ]
        }
      ]
    },
    {
      "cell_type": "code",
      "source": [
        "pd.DataFrame(history2.history).plot()\n",
        "loss,accuracy=model.evaluate(X_test_full,y_test_full)\n",
        "print(f'The loss evaluated is {loss}')\n",
        "print(f'The accuracy of the model is evaluated as {accuracy}')"
      ],
      "metadata": {
        "colab": {
          "base_uri": "https://localhost:8080/",
          "height": 484
        },
        "id": "pl1erf3g4BgG",
        "outputId": "4c72c0b6-e39d-4a50-bbf9-7db72ac82d6b"
      },
      "execution_count": 15,
      "outputs": [
        {
          "output_type": "stream",
          "name": "stdout",
          "text": [
            "313/313 [==============================] - 1s 4ms/step - loss: 2.1561 - accuracy: 0.1862\n",
            "The loss evaluated is 2.156132698059082\n",
            "The accuracy of the model is evaluated as 0.18619999289512634\n"
          ]
        },
        {
          "output_type": "display_data",
          "data": {
            "text/plain": [
              "<Figure size 640x480 with 1 Axes>"
            ],
            "image/png": "[encoded data removed]"
          },
          "metadata": {}
        }
      ]
    },
    {
      "cell_type": "markdown",
      "source": [
        "#### Question 9\n",
        "#### Ans\n",
        "Considerations and tradeoffs when choosing the appropriate regularization technique for a given deep learning task include:\n",
        "\n",
        "* Effectiveness: Different regularization techniques have varying degrees of effectiveness in combating overfitting. Consider the performance of each technique in similar tasks or domains.\n",
        "\n",
        "* Model Complexity: The complexity of your model can impact the choice of regularization technique. More complex models may require stronger regularization techniques to prevent overfitting.\n",
        "\n",
        "* Interpretability: Some regularization techniques, like L1 regularization, promote sparsity and feature selection, making the model more interpretable. Consider whether interpretability is important for your task.\n",
        "\n",
        "* Computational Cost: Certain regularization techniques, such as Dropout or data augmentation, introduce additional computational overhead during training. Assess whether the computational cost is feasible within your available resources.\n",
        "\n",
        "* Training Data Size: The size of your training data affects the effectiveness of different regularization techniques. With smaller datasets, regularization becomes more important to prevent overfitting."
      ],
      "metadata": {
        "id": "31MOJjk-3cRd"
      }
    }
  ]
}