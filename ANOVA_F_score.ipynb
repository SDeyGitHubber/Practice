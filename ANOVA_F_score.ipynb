{
 "cells": [
  {
   "cell_type": "markdown",
   "metadata": {},
   "source": [
    "#### Number 4\n",
    "How would you calculate the total sum of squares (SST), explained sum of squares (SSE), and residual\n",
    "sum of squares (SSR) in a one-way ANOVA using Python?"
   ]
  },
  {
   "cell_type": "code",
   "execution_count": 9,
   "metadata": {},
   "outputs": [
    {
     "name": "stdout",
     "output_type": "stream",
     "text": [
      "Total Sum of Squares (SST): 40.0\n",
      "Explained Sum of Squares (SSE): 30.0\n",
      "Residual Sum of Squares (SSR): 10.0\n",
      "Degrees of Freedom (Groups, Residual): 2 12\n",
      "F-Statistic: 18.0\n",
      "p-value: 0.000244140625\n"
     ]
    }
   ],
   "source": [
    "import numpy as np\n",
    "import scipy.stats as stats\n",
    "\n",
    "group1 = np.array([3, 4, 5, 6, 7])\n",
    "group2 = np.array([2, 3, 4, 5, 6])\n",
    "group3 = np.array([1, 2, 3, 4, 5])\n",
    "data = np.concatenate((group1, group2, group3))\n",
    "\n",
    "groups = np.array(['Group 1', 'Group 2', 'Group 3'])\n",
    "\n",
    "# Calculate the total sum of squares (SST)\n",
    "sst = np.sum((data - np.mean(data)) ** 2)\n",
    "\n",
    "# Calculate the explained sum of squares (SSE)\n",
    "group_means = np.array([np.mean(group1), np.mean(group2), np.mean(group3)])\n",
    "sse = np.sum((group_means - np.mean(data)) ** 2) * len(data)\n",
    "\n",
    "# Calculate the residual sum of squares (SSR)\n",
    "ssr = sst - sse\n",
    "\n",
    "# Degrees of freedom\n",
    "n_groups = len(groups)\n",
    "n_total = len(data)\n",
    "df_total = n_total - 1\n",
    "df_groups = n_groups - 1\n",
    "df_residual = df_total - df_groups\n",
    "\n",
    "# Mean squares (MS)\n",
    "ms_groups = sse / df_groups\n",
    "ms_residual = ssr / df_residual\n",
    "\n",
    "# F-statistic\n",
    "f_statistic = ms_groups / ms_residual\n",
    "\n",
    "# p-value\n",
    "p_value = 1 - stats.f.cdf(f_statistic, df_groups, df_residual)\n",
    "\n",
    "print(\"Total Sum of Squares (SST):\", sst)\n",
    "print(\"Explained Sum of Squares (SSE):\", sse)\n",
    "print(\"Residual Sum of Squares (SSR):\", ssr)\n",
    "print(\"Degrees of Freedom (Groups, Residual):\", df_groups, df_residual)\n",
    "print(\"F-Statistic:\", f_statistic)\n",
    "print(\"p-value:\", p_value)\n"
   ]
  },
  {
   "cell_type": "markdown",
   "metadata": {},
   "source": [
    "#### Number 11\n",
    "An educational researcher is interested in whether a new teaching method improves student test\n",
    "scores. They randomly assign 100 students to either the control group (traditional teaching method) or the\n",
    "experimental group (new teaching method) and administer a test at the end of the semester. Conduct a\n",
    "two-sample t-test using Python to determine if there are any significant differences in test scores\n",
    "between the two groups. If the results are significant, follow up with a post-hoc test to determine which\n",
    "group(s) differ significantly from each other."
   ]
  },
  {
   "cell_type": "code",
   "execution_count": 8,
   "metadata": {},
   "outputs": [
    {
     "name": "stdout",
     "output_type": "stream",
     "text": [
      "Two-sample t-test results:\n",
      "t-statistic: -3.3511267852812807\n",
      "p-value: 0.0009638719426795379\n",
      "\n",
      "Post-hoc test (Tukey's HSD) results:\n",
      "  Multiple Comparison of Means - Tukey HSD, FWER=0.05   \n",
      "========================================================\n",
      " group1    group2    meandiff p-adj lower  upper  reject\n",
      "--------------------------------------------------------\n",
      "Control Experimental   5.3861 0.001 2.2166 8.5556   True\n",
      "--------------------------------------------------------\n"
     ]
    }
   ],
   "source": [
    "import numpy as np\n",
    "from scipy.stats import ttest_ind, f_oneway\n",
    "from statsmodels.stats.multicomp import pairwise_tukeyhsd\n",
    "\n",
    "# Generate random test scores for the control and experimental groups\n",
    "np.random.seed(0)  # Set the random seed for reproducibility\n",
    "control_scores = np.random.normal(70, 10, size=100)\n",
    "experimental_scores = np.random.normal(75, 12, size=100)\n",
    "\n",
    "# Perform the two-sample t-test\n",
    "t_stat, p_value = ttest_ind(control_scores, experimental_scores)\n",
    "\n",
    "# Print the t-statistic and p-value\n",
    "print(\"Two-sample t-test results:\")\n",
    "print(\"t-statistic:\", t_stat)\n",
    "print(\"p-value:\", p_value)\n",
    "\n",
    "# Perform post-hoc test (Tukey's HSD test)\n",
    "all_scores = np.concatenate((control_scores, experimental_scores))\n",
    "groups = np.array(['Control'] * len(control_scores) + ['Experimental'] * len(experimental_scores))\n",
    "\n",
    "posthoc = pairwise_tukeyhsd(all_scores, groups)\n",
    "\n",
    "# Print the post-hoc test results\n",
    "print(\"\\nPost-hoc test (Tukey's HSD) results:\")\n",
    "print(posthoc)\n"
   ]
  },
  {
   "cell_type": "code",
   "execution_count": null,
   "metadata": {},
   "outputs": [],
   "source": [
    "control_scores = np.array([80, 85, 90, 92, 87, 83, 78, 79, 81, 84])\n",
    "experimental_scores = np.array([75, 78, 82, 79, 81, 84, 88, 89, 86, 90])\n",
    "\n",
    "t_statistic, p_value = stats.ttest_ind(control_scores, experimental_scores)\n",
    "\n",
    "print(\"Two-Sample T-Test Results:\")\n",
    "print(\"t-statistic:\", t_statistic)\n",
    "print(\"p-value:\", p_value)"
   ]
  },
  {
   "cell_type": "markdown",
   "metadata": {},
   "source": [
    "#### Number 10\n",
    "A company wants to know if there are any significant differences in the average time it takes to\n",
    "complete a task using three different software programs: Program A, Program B, and Program C. They\n",
    "randomly assign 30 employees to one of the programs and record the time it takes each employee to\n",
    "complete the task. Conduct a two-way ANOVA using Python to determine if there are any main effects or\n",
    "interaction effects between the software programs and employee experience level (novice vs.\n",
    "experienced). Report the F-statistics and p-values, and interpret the results."
   ]
  },
  {
   "cell_type": "code",
   "execution_count": 2,
   "metadata": {},
   "outputs": [
    {
     "data": {
      "text/html": [
       "<div>\n",
       "<style scoped>\n",
       "    .dataframe tbody tr th:only-of-type {\n",
       "        vertical-align: middle;\n",
       "    }\n",
       "\n",
       "    .dataframe tbody tr th {\n",
       "        vertical-align: top;\n",
       "    }\n",
       "\n",
       "    .dataframe thead th {\n",
       "        text-align: right;\n",
       "    }\n",
       "</style>\n",
       "<table border=\"1\" class=\"dataframe\">\n",
       "  <thead>\n",
       "    <tr style=\"text-align: right;\">\n",
       "      <th></th>\n",
       "      <th>sum_sq</th>\n",
       "      <th>df</th>\n",
       "      <th>F</th>\n",
       "      <th>PR(&gt;F)</th>\n",
       "    </tr>\n",
       "  </thead>\n",
       "  <tbody>\n",
       "    <tr>\n",
       "      <th>Software</th>\n",
       "      <td>137.071429</td>\n",
       "      <td>2.0</td>\n",
       "      <td>41.641953</td>\n",
       "      <td>1.570797e-08</td>\n",
       "    </tr>\n",
       "    <tr>\n",
       "      <th>Experience</th>\n",
       "      <td>0.321429</td>\n",
       "      <td>1.0</td>\n",
       "      <td>0.195298</td>\n",
       "      <td>6.624995e-01</td>\n",
       "    </tr>\n",
       "    <tr>\n",
       "      <th>Software:Experience</th>\n",
       "      <td>0.428571</td>\n",
       "      <td>2.0</td>\n",
       "      <td>0.130199</td>\n",
       "      <td>8.785366e-01</td>\n",
       "    </tr>\n",
       "    <tr>\n",
       "      <th>Residual</th>\n",
       "      <td>39.500000</td>\n",
       "      <td>24.0</td>\n",
       "      <td>NaN</td>\n",
       "      <td>NaN</td>\n",
       "    </tr>\n",
       "  </tbody>\n",
       "</table>\n",
       "</div>"
      ],
      "text/plain": [
       "                         sum_sq    df          F        PR(>F)\n",
       "Software             137.071429   2.0  41.641953  1.570797e-08\n",
       "Experience             0.321429   1.0   0.195298  6.624995e-01\n",
       "Software:Experience    0.428571   2.0   0.130199  8.785366e-01\n",
       "Residual              39.500000  24.0        NaN           NaN"
      ]
     },
     "execution_count": 2,
     "metadata": {},
     "output_type": "execute_result"
    }
   ],
   "source": [
    "import statsmodels.api as sm\n",
    "import pandas as pd\n",
    "from statsmodels.formula.api import ols\n",
    "data = pd.DataFrame({\n",
    "    'Software': ['A', 'A', 'A', 'B', 'B', 'B', 'C', 'C', 'C', 'A', 'A', 'A', 'B', 'B', 'B', 'C', 'C', 'C', \n",
    "                 'A', 'A', 'A', 'B', 'B', 'B', 'C', 'C', 'C', 'A', 'A', 'A'],\n",
    "    'Experience': ['Novice', 'Novice', 'Novice', 'Novice', 'Novice', 'Novice', 'Novice', 'Novice', 'Novice',\n",
    "                   'Experienced', 'Experienced', 'Experienced', 'Experienced', 'Experienced', 'Experienced',\n",
    "                   'Experienced', 'Experienced', 'Experienced', 'Novice', 'Novice', 'Novice', 'Novice', 'Novice',\n",
    "                   'Novice', 'Novice', 'Novice', 'Novice', 'Experienced', 'Experienced', 'Experienced'],\n",
    "    'Time': [10, 11, 9, 12, 13, 11, 15, 16, 14, 9, 10, 8, 11, 12, 10, 14, 15, 13, 8, 9, 7, 10, 11, 9, 13, 14, 12,\n",
    "             8, 9, 7]\n",
    "})\n",
    "\n",
    "model = ols('Time ~ Software + Experience + Software:Experience', data=data).fit()\n",
    "anova_table = sm.stats.anova_lm(model, typ=2)\n",
    "anova_table"
   ]
  },
  {
   "cell_type": "code",
   "execution_count": 3,
   "metadata": {},
   "outputs": [
    {
     "name": "stdout",
     "output_type": "stream",
     "text": [
      "Two-Way ANOVA Results:\n",
      "--------------------------------------------------------\n",
      "Main Effect of Software:\n",
      "F-Statistic: 41.64195298372507\n",
      "p-value: 1.5707966943612276e-08\n",
      "\n",
      "Main Effect of Experience:\n",
      "F-Statistic: 0.1952983725135577\n",
      "p-value: 0.6624994739968593\n",
      "\n",
      "Interaction Effect:\n",
      "F-Statistic: 0.13019891500903766\n",
      "p-value: 0.8785366445470055\n"
     ]
    }
   ],
   "source": [
    "# Extract F-statistics and p-values\n",
    "f_stat_software = anova_table['F'][0]\n",
    "p_value_software = anova_table['PR(>F)'][0]\n",
    "f_stat_experience = anova_table['F'][1]\n",
    "p_value_experience = anova_table['PR(>F)'][1]\n",
    "f_stat_interaction = anova_table['F'][2]\n",
    "p_value_interaction = anova_table['PR(>F)'][2]\n",
    "\n",
    "# Print the results\n",
    "print(\"Two-Way ANOVA Results:\")\n",
    "print(\"--------------------------------------------------------\")\n",
    "print(\"Main Effect of Software:\")\n",
    "print(\"F-Statistic:\", f_stat_software)\n",
    "print(\"p-value:\", p_value_software)\n",
    "print()\n",
    "print(\"Main Effect of Experience:\")\n",
    "print(\"F-Statistic:\", f_stat_experience)\n",
    "print(\"p-value:\", p_value_experience)\n",
    "print()\n",
    "print(\"Interaction Effect:\")\n",
    "print(\"F-Statistic:\", f_stat_interaction)\n",
    "print(\"p-value:\", p_value_interaction)"
   ]
  },
  {
   "cell_type": "markdown",
   "metadata": {},
   "source": [
    "#### number 12\n",
    "A researcher wants to know if there are any significant differences in the average daily sales of three\n",
    "retail stores: Store A, Store B, and Store C. They randomly select 30 days and record the sales for each store\n",
    "on those days. Conduct a repeated measures ANOVA using Python to determine if there are any\n",
    "\n",
    "significant differences in sales between the three stores. If the results are significant, follow up with a post-\n",
    "hoc test to determine which store(s) differ significantly from each other."
   ]
  },
  {
   "cell_type": "code",
   "execution_count": 10,
   "metadata": {},
   "outputs": [
    {
     "name": "stdout",
     "output_type": "stream",
     "text": [
      "               Anova\n",
      "===================================\n",
      "      F Value Num DF  Den DF Pr > F\n",
      "-----------------------------------\n",
      "Store  7.9348 2.0000 58.0000 0.0009\n",
      "===================================\n",
      "\n",
      "\n",
      "Post-hoc test (Tukey's HSD) results:\n",
      "  Multiple Comparison of Means - Tukey HSD, FWER=0.05   \n",
      "========================================================\n",
      "group1 group2  meandiff p-adj    lower    upper   reject\n",
      "--------------------------------------------------------\n",
      "     A      B -190.6852 0.0012 -314.1191 -67.2513   True\n",
      "     A      C  -17.9899 0.9356 -141.4238  105.444  False\n",
      "     B      C  172.6953 0.0035   49.2614 296.1292   True\n",
      "--------------------------------------------------------\n"
     ]
    }
   ],
   "source": [
    "import numpy as np\n",
    "import pandas as pd\n",
    "from statsmodels.stats.anova import AnovaRM\n",
    "from statsmodels.stats.multicomp import pairwise_tukeyhsd\n",
    "\n",
    "# Generate random sales data for three stores over 30 days\n",
    "np.random.seed(0)  # Set the random seed for reproducibility\n",
    "store_a_sales = np.random.normal(1000, 200, size=30)\n",
    "store_b_sales = np.random.normal(950, 180, size=30)\n",
    "store_c_sales = np.random.normal(1100, 220, size=30)\n",
    "\n",
    "# Create a DataFrame with the sales data\n",
    "data = pd.DataFrame({\n",
    "    'Store': ['A'] * 30 + ['B'] * 30 + ['C'] * 30,\n",
    "    'Day': list(range(1, 31)) * 3,\n",
    "    'Sales': np.concatenate([store_a_sales, store_b_sales, store_c_sales])\n",
    "})\n",
    "\n",
    "# Perform repeated measures ANOVA\n",
    "model = AnovaRM(data, 'Sales', 'Day', within=['Store']).fit()\n",
    "\n",
    "# Print the ANOVA summary\n",
    "print(model.summary())\n",
    "\n",
    "# Perform post-hoc test (Tukey's HSD test)\n",
    "posthoc = pairwise_tukeyhsd(data['Sales'], data['Store'])\n",
    "\n",
    "# Print the post-hoc test results\n",
    "print(\"\\nPost-hoc test (Tukey's HSD) results:\")\n",
    "print(posthoc)\n"
   ]
  },
  {
   "cell_type": "markdown",
   "metadata": {},
   "source": [
    "#### Number 8\n",
    "What are some common post-hoc tests used after ANOVA, and when would you use each one? Provide\n",
    "an example of a situation where a post-hoc test might be necessary."
   ]
  },
  {
   "cell_type": "markdown",
   "metadata": {},
   "source": [
    "After conducting an analysis of variance (ANOVA) and finding a significant overall effect, post-hoc tests are used to determine which specific groups or conditions differ significantly from each other. Some common post-hoc tests include:   \n",
    "\n",
    "Tukey's Honestly Significant Difference (HSD) Test: This test is commonly used when comparing all possible pairs of groups in a study. It controls the family-wise error rate, which is the probability of making at least one Type I error across all comparisons.   \n",
    "Example: Suppose you conducted an experiment with three different treatment conditions, and the ANOVA results showed a significant overall effect. To determine which specific treatment conditions differ significantly from each other, you can apply Tukey's HSD test.   \n",
    "\n",
    "Bonferroni Correction: This correction is used to adjust the significance level of individual comparisons when performing multiple pairwise comparisons. It divides the desired significance level by the number of comparisons to control the family-wise error rate.   \n",
    "Example: If you conduct multiple t-tests or pairwise comparisons after an ANOVA with a significance level of 0.05, the Bonferroni correction would adjust the individual significance level to 0.05 divided by the number of comparisons.   \n",
    "\n",
    "Scheffe's Test: This test is more conservative than Tukey's HSD test and is suitable for situations where the number of comparisons is small or unequal. It can be used to compare all possible combinations of groups.\n",
    "Example: In a study with four treatment conditions, the ANOVA shows a significant effect. Scheffe's test can be applied to determine which specific groups differ significantly from each other.   \n",
    "\n",
    "Dunnett's Test: This test is used when there is a control group or reference condition against which other groups are compared. It controls the overall significance level while focusing on the comparisons between the control group and other groups.\n",
    "Example: Suppose you have a control group and multiple experimental groups in a study. After conducting an ANOVA, Dunnett's test can be used to compare each experimental group with the control group.   \n",
    "\n",
    "Fisher's Least Significant Difference (LSD) Test: This test is less conservative than Tukey's HSD test but does not control the family-wise error rate. It is suitable for situations where there are a small number of comparisons or a priori hypotheses.\n",
    "Example: In a study with three treatment conditions, the ANOVA shows a significant effect. Fisher's LSD test can be used to compare pairs of groups based on specific hypotheses or research questions.   \n",
    "\n",
    "Post-hoc tests are used when there is a significant overall effect in ANOVA and researchers want to determine the specific pairwise differences between groups. Each post-hoc test has its own assumptions and advantages, so the choice of which test to use depends on the research question, the number of groups, the nature of the data, and the desired control of Type I errors."
   ]
  },
  {
   "cell_type": "code",
   "execution_count": null,
   "metadata": {},
   "outputs": [],
   "source": []
  },
  {
   "cell_type": "code",
   "execution_count": null,
   "metadata": {},
   "outputs": [],
   "source": []
  },
  {
   "cell_type": "code",
   "execution_count": null,
   "metadata": {},
   "outputs": [],
   "source": []
  }
 ],
 "metadata": {
  "kernelspec": {
   "display_name": "Python 3 (ipykernel)",
   "language": "python",
   "name": "python3"
  },
  "language_info": {
   "codemirror_mode": {
    "name": "ipython",
    "version": 3
   },
   "file_extension": ".py",
   "mimetype": "text/x-python",
   "name": "python",
   "nbconvert_exporter": "python",
   "pygments_lexer": "ipython3",
   "version": "3.11.1"
  }
 },
 "nbformat": 4,
 "nbformat_minor": 2
}
