{
 "cells": [
  {
   "cell_type": "markdown",
   "metadata": {},
   "source": [
    "#### Number 1\n",
    "What is the difference between a t-test and a z-test? Provide an example scenario where you would\n",
    "use each type of test."
   ]
  },
  {
   "cell_type": "markdown",
   "metadata": {},
   "source": [
    "#### Ans\n",
    "The main difference between a t-test and a z-test lies in the availability of population parameters. A z-test is used when the population standard deviation is known, or the sample size is large (typically n > 30). On the other hand, a t-test is used when the population standard deviation is unknown, and the sample size is small (typically n < 30).\n",
    "\n",
    "Example Scenario:\n",
    "Use a z-test: When conducting hypothesis testing on the average height of adults, and the population standard deviation is known from previous studies, a z-test can be employed.\n",
    "Use a t-test: When conducting hypothesis testing on the effectiveness of a new teaching method, and the standard deviation is unknown, a t-test is appropriate due to the small sample size."
   ]
  },
  {
   "cell_type": "markdown",
   "metadata": {},
   "source": [
    "#### Number 2\n",
    "Differentiate between one-tailed and two-tailed tests."
   ]
  },
  {
   "cell_type": "markdown",
   "metadata": {},
   "source": [
    "#### Ans\n",
    "Q2: In hypothesis testing, a one-tailed test is used when the alternative hypothesis is directional, indicating an expected difference or relationship in a specific direction. A two-tailed test is used when the alternative hypothesis is non-directional, indicating an expected difference or relationship but without specifying the direction."
   ]
  },
  {
   "cell_type": "markdown",
   "metadata": {},
   "source": [
    "#### Number 3\n",
    "Explain the concept of Type 1 and Type 2 errors in hypothesis testing. Provide an example scenario for\n",
    "each type of error."
   ]
  },
  {
   "cell_type": "markdown",
   "metadata": {},
   "source": [
    "#### Ans\n",
    "Q3: Type 1 error refers to rejecting the null hypothesis when it is true, indicating a false positive. Type 2 error refers to failing to reject the null hypothesis when it is false, indicating a false negative.\n",
    "\n",
    "Example Scenario:\n",
    "\n",
    "Type 1 error: Rejecting the null hypothesis that a patient is healthy (null) when the patient is actually healthy (true).\n",
    "Type 2 error: Failing to reject the null hypothesis that a patient is healthy (null) when the patient is actually sick (false)."
   ]
  },
  {
   "cell_type": "markdown",
   "metadata": {},
   "source": [
    "#### Number 4\n",
    "Explain Bayes's theorem with an example."
   ]
  },
  {
   "cell_type": "markdown",
   "metadata": {},
   "source": [
    "#### Ans\n",
    "Bayes's theorem is a mathematical formula that describes how to update the probability of an event based on new evidence. It incorporates prior knowledge (prior probability) and new evidence (likelihood) to calculate the updated probability (posterior probability)."
   ]
  },
  {
   "cell_type": "markdown",
   "metadata": {},
   "source": [
    "#### Number 5\n",
    "What is a confidence interval? How to calculate the confidence interval, explain with an example."
   ]
  },
  {
   "cell_type": "markdown",
   "metadata": {},
   "source": [
    "#### Ans\n",
    "A confidence interval is a range of values that provides an estimate of the true population parameter with a specified level of confidence. It measures the uncertainty associated with the estimate.\n",
    "Example: To estimate the average height of a population, a 95% confidence interval might be calculated as [165 cm, 175 cm]. This means that we are 95% confident that the true average height of the population falls within this range."
   ]
  },
  {
   "cell_type": "markdown",
   "metadata": {},
   "source": [
    "#### Number 6\n",
    "Use Bayes' Theorem to calculate the probability of an event occurring given prior knowledge of the\n",
    "event's probability and new evidence. Provide a sample problem and solution."
   ]
  },
  {
   "cell_type": "markdown",
   "metadata": {},
   "source": [
    "#### Ans\n",
    "Providing a sample problem and solution for Bayes's theorem is not feasible in this text-based format due to the complexity and calculations involved. However, in general, Bayes's theorem is used to update the probability of an event based on prior knowledge and new evidence. The theorem involves multiplying the prior probability by the likelihood of the evidence given the event and then normalizing the result to obtain the updated probability."
   ]
  },
  {
   "cell_type": "markdown",
   "metadata": {},
   "source": [
    "#### Number 7\n",
    "Calculate the 95% confidence interval for a sample of data with a mean of 50 and a standard deviation\n",
    "of 5. Interpret the results."
   ]
  },
  {
   "cell_type": "code",
   "execution_count": 6,
   "metadata": {},
   "outputs": [
    {
     "name": "stdout",
     "output_type": "stream",
     "text": [
      "Confidence interval is between 49.99900789152424 and 49.99900789152424\n"
     ]
    }
   ],
   "source": [
    "sample_mean,std_dev=50,5\n",
    "alpha=0.05\n",
    "size=100 # we've considered the sample size to be 100\n",
    "std_error=std_dev/(size)**2\n",
    "critical_value=stats.t.ppf(1-alpha/2,size-1)\n",
    "print(f'Confidence interval is between {sample_mean-critical_value*std_error} and {sample_mean-critical_value*std_error}')"
   ]
  },
  {
   "cell_type": "markdown",
   "metadata": {},
   "source": [
    "#### number 8\n",
    "  What is the margin of error in a confidence interval? How does sample size affect the margin of error?\n",
    "Provide an example of a scenario where a larger sample size would result in a smaller margin of error."
   ]
  },
  {
   "cell_type": "markdown",
   "metadata": {},
   "source": [
    "#### Ans\n",
    "The margin of error in a confidence interval represents the range of values around the sample estimate within which the true population parameter is likely to fall. It quantifies the uncertainty associated with the estimate. The margin of error is calculated by multiplying the critical value (based on the desired confidence level) by the standard error of the estimate.\n",
    "\n",
    "Sample size affects the margin of error. As the sample size increases, the margin of error decreases. This is because a larger sample size provides more information and reduces the sampling variability, resulting in a more precise estimate. \n",
    "\n",
    "Q10: To conduct a hypothesis test using a t-test, we compare the sample mean to the hypothesized population mean and evaluate the likelihood of observing such a difference by chance.\n",
    "\n",
    "Given:\n",
    "Sample size (n) = 50\n",
    "Sample mean = 6\n",
    "Sample standard deviation = 2.5\n",
    "Hypothesized population mean = 0 (assuming no weight loss)\n",
    "\n",
    "We will perform a one-sample t-test to determine if the drug is significantly effective.\n",
    "\n",
    "t_stat, p_value = stats.ttest_1samp(a=data, popmean=0)\n",
    "\n",
    "Using a significance level of 0.05 (95% confidence level), if the p-value is less than 0.05, we reject the null hypothesis (the drug has no significant effect). Otherwise, if the p-value is greater than or equal to 0.05, we fail to reject the null hypothesis (insufficient evidence to conclude the drug is significantly effective).\n",
    "\n",
    "Interpretation: The resulting t-statistic and p-value from the t-test will indicate whether the average weight loss of 6 pounds is significantly different from zero."
   ]
  },
  {
   "cell_type": "markdown",
   "metadata": {},
   "source": [
    "#### number 9\n",
    "Calculate the z-score for a data point with a value of 75, a population mean of 70, and a population\n",
    "standard deviation of 5. Interpret the results"
   ]
  },
  {
   "cell_type": "markdown",
   "metadata": {},
   "source": [
    "#### Ans\n",
    "To calculate the z-score, we can use the formula:\n",
    "\n",
    "z = (data_point - population_mean) / population_standard_deviation\n",
    "\n",
    "Given:\n",
    "Data point = 75\n",
    "Population mean = 70\n",
    "Population standard deviation = 5\n",
    "\n",
    "Substituting these values into the formula:\n",
    "\n",
    "z = (75 - 70) / 5\n",
    "z = 1\n",
    "\n",
    "Interpretation: The z-score of 1 indicates that the data point is 1 standard deviation above the mean. In other words, the value of 75 is one standard deviation higher than the average value of 70 in the population."
   ]
  },
  {
   "cell_type": "markdown",
   "metadata": {},
   "source": [
    "#### number 10\n",
    "In a study of the effectiveness of a new weight loss drug, a sample of 50 participants lost an average\n",
    "of 6 pounds with a standard deviation of 2.5 pounds. Conduct a hypothesis test to determine if the drug is\n",
    "significantly effective at a 95% confidence level using a t-test"
   ]
  },
  {
   "cell_type": "code",
   "execution_count": 7,
   "metadata": {},
   "outputs": [
    {
     "name": "stdout",
     "output_type": "stream",
     "text": [
      "we reject the null hypothesis (the drug has no significant effect)\n"
     ]
    }
   ],
   "source": [
    "Sample_size= 50\n",
    "Sample_mean = 6\n",
    "standard_deviation = 2.5\n",
    "# Hypothesized population mean = 0 (assuming no weight loss)\n",
    "data=np.random.normal(loc=Sample_mean,scale=standard_deviation,size=Sample_size)\n",
    "\n",
    "t_stat, p_value = stats.ttest_1samp(a=data, popmean=0)\n",
    "\n",
    "if p_value<0.05:\n",
    "    print('we reject the null hypothesis (the drug has no significant effect)')\n",
    "else:\n",
    "    print('we accept the null hypothesis (the drug has significant effect)')\n",
    "# Interpretation: The resulting t-statistic and p-value from the t-test will indicate whether the \n",
    "# average weight loss of 6 pounds is significantly different from zero."
   ]
  },
  {
   "cell_type": "markdown",
   "metadata": {},
   "source": [
    "#### Number 11\n",
    "In a survey of 500 people, 65% reported being satisfied with their current job. Calculate the 95%\n",
    "confidence interval for the true proportion of people who are satisfied with their job."
   ]
  },
  {
   "cell_type": "code",
   "execution_count": 3,
   "metadata": {},
   "outputs": [
    {
     "name": "stdout",
     "output_type": "stream",
     "text": [
      "90% Confidence Interval: (0.6500003405258221, 0.6499996594741779)\n"
     ]
    }
   ],
   "source": [
    "import numpy as np\n",
    "from scipy import stats\n",
    "sample_size,prop,alpha=500,0.65,0.05\n",
    "std_error=((prop*(1-prop))/sample_size)**2\n",
    "critical_value=stats.norm.ppf(alpha)\n",
    "\n",
    "margin_of_error=critical_value*std_error\n",
    "lower_bound = prop - margin_of_error\n",
    "upper_bound = prop + margin_of_error\n",
    "print(f\"90% Confidence Interval: ({lower_bound}, {upper_bound})\")"
   ]
  },
  {
   "cell_type": "markdown",
   "metadata": {},
   "source": [
    "#### number 12\n",
    "A researcher is testing the effectiveness of two different teaching methods on student performance.\n",
    "Sample A has a mean score of 85 with a standard deviation of 6, while sample B has a mean score of 82\n",
    "with a standard deviation of 5. Conduct a hypothesis test to determine if the two teaching methods have a\n",
    "significant difference in student performance using a t-test with a significance level of 0.01."
   ]
  },
  {
   "cell_type": "code",
   "execution_count": 8,
   "metadata": {},
   "outputs": [
    {
     "name": "stdout",
     "output_type": "stream",
     "text": [
      "Fail to reject the null hypothesis. There is no significant difference between the teaching methods.\n",
      "T-statistic: 2.10386061995483\n",
      "P-value: 0.03973697161571055\n"
     ]
    }
   ],
   "source": [
    "import numpy as np\n",
    "from scipy import stats\n",
    "\n",
    "# Sample A\n",
    "mean_A = 85\n",
    "std_dev_A = 6\n",
    "n_A = 30\n",
    "\n",
    "# Sample B\n",
    "mean_B = 82\n",
    "std_dev_B = 5\n",
    "n_B = 30\n",
    "\n",
    "# Set the significance level\n",
    "alpha = 0.01\n",
    "\n",
    "# Calculate the degrees of freedom\n",
    "df = n_A + n_B - 2\n",
    "\n",
    "# Calculate the pooled standard deviation\n",
    "pooled_std_dev = np.sqrt(((n_A - 1) * std_dev_A**2 + (n_B - 1) * std_dev_B**2) / df)\n",
    "\n",
    "# Calculate the t-statistic\n",
    "t_stat = (mean_A - mean_B) / (pooled_std_dev * np.sqrt(1/n_A + 1/n_B))\n",
    "\n",
    "# Calculate the p-value\n",
    "p_value = 2 * (1 - stats.t.cdf(np.abs(t_stat), df))\n",
    "\n",
    "# Compare the p-value with the significance level\n",
    "if p_value < alpha:\n",
    "    print(\"Reject the null hypothesis. There is a significant difference between the teaching methods.\")\n",
    "else:\n",
    "    print(\"Fail to reject the null hypothesis. There is no significant difference between the teaching methods.\")\n",
    "\n",
    "print(f\"T-statistic: {t_stat}\")\n",
    "print(f\"P-value: {p_value}\")\n"
   ]
  },
  {
   "cell_type": "markdown",
   "metadata": {},
   "source": [
    "#### Number 13\n",
    "A population has a mean of 60 and a standard deviation of 8. A sample of 50 observations has a mean\n",
    "of 65. Calculate the 90% confidence interval for the true population mean."
   ]
  },
  {
   "cell_type": "code",
   "execution_count": 9,
   "metadata": {},
   "outputs": [
    {
     "name": "stdout",
     "output_type": "stream",
     "text": [
      "Confidence Interval: [63.13906055411732, 66.86093944588268]\n"
     ]
    }
   ],
   "source": [
    "population_mean = 60\n",
    "population_std_dev = 8\n",
    "sample_mean = 65\n",
    "sample_size = 50\n",
    "confidence_level = 0.90\n",
    "\n",
    "# Calculate the critical value from the standard normal distribution\n",
    "critical_value = stats.norm.ppf(1 - (1 - confidence_level) / 2)\n",
    "\n",
    "# Calculate the standard error\n",
    "standard_error = population_std_dev / np.sqrt(sample_size)\n",
    "\n",
    "# Calculate the confidence interval\n",
    "lower_bound = sample_mean - critical_value * standard_error\n",
    "upper_bound = sample_mean + critical_value * standard_error\n",
    "\n",
    "print(f\"Confidence Interval: [{lower_bound}, {upper_bound}]\")\n"
   ]
  },
  {
   "cell_type": "markdown",
   "metadata": {},
   "source": [
    "#### Number 14\n",
    "In a study of the effects of caffeine on reaction time, a sample of 30 participants had an average\n",
    "reaction time of 0.25 seconds with a standard deviation of 0.05 seconds. Conduct a hypothesis test to\n",
    "determine if the caffeine has a significant effect on reaction time at a 90% confidence level using a t-test."
   ]
  },
  {
   "cell_type": "code",
   "execution_count": 5,
   "metadata": {},
   "outputs": [
    {
     "name": "stdout",
     "output_type": "stream",
     "text": [
      "90% Confidence Interval: (0.24990560405408146, 0.25009439594591854)\n"
     ]
    }
   ],
   "source": [
    "mean,sample_size,std_dev,alpha=0.25,30,0.05,0.10\n",
    "std_error=std_dev/(sample_size)**2\n",
    "\n",
    "critical_value=stats.t.ppf(1-alpha/2,sample_size-1)\n",
    "\n",
    "margin_of_error=critical_value*std_error\n",
    "lower_bound = mean - margin_of_error\n",
    "upper_bound = mean + margin_of_error\n",
    "print(f\"90% Confidence Interval: ({lower_bound}, {upper_bound})\")"
   ]
  },
  {
   "cell_type": "code",
   "execution_count": null,
   "metadata": {},
   "outputs": [],
   "source": []
  }
 ],
 "metadata": {
  "kernelspec": {
   "display_name": "Python 3 (ipykernel)",
   "language": "python",
   "name": "python3"
  },
  "language_info": {
   "codemirror_mode": {
    "name": "ipython",
    "version": 3
   },
   "file_extension": ".py",
   "mimetype": "text/x-python",
   "name": "python",
   "nbconvert_exporter": "python",
   "pygments_lexer": "ipython3",
   "version": "3.11.1"
  }
 },
 "nbformat": 4,
 "nbformat_minor": 2
}
